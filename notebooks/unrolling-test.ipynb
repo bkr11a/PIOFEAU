{
 "cells": [
  {
   "cell_type": "code",
   "execution_count": 1,
   "metadata": {},
   "outputs": [
    {
     "name": "stderr",
     "output_type": "stream",
     "text": [
      "2024-09-29 12:44:13.422983: I tensorflow/core/util/port.cc:113] oneDNN custom operations are on. You may see slightly different numerical results due to floating-point round-off errors from different computation orders. To turn them off, set the environment variable `TF_ENABLE_ONEDNN_OPTS=0`.\n",
      "2024-09-29 12:44:15.032932: E external/local_xla/xla/stream_executor/cuda/cuda_fft.cc:479] Unable to register cuFFT factory: Attempting to register factory for plugin cuFFT when one has already been registered\n",
      "2024-09-29 12:44:15.713759: E external/local_xla/xla/stream_executor/cuda/cuda_dnn.cc:10575] Unable to register cuDNN factory: Attempting to register factory for plugin cuDNN when one has already been registered\n",
      "2024-09-29 12:44:15.716929: E external/local_xla/xla/stream_executor/cuda/cuda_blas.cc:1442] Unable to register cuBLAS factory: Attempting to register factory for plugin cuBLAS when one has already been registered\n",
      "2024-09-29 12:44:16.825095: I tensorflow/core/platform/cpu_feature_guard.cc:210] This TensorFlow binary is optimized to use available CPU instructions in performance-critical operations.\n",
      "To enable the following instructions: AVX2 AVX_VNNI FMA, in other operations, rebuild TensorFlow with the appropriate compiler flags.\n",
      "2024-09-29 12:44:22.840508: W tensorflow/compiler/tf2tensorrt/utils/py_utils.cc:38] TF-TRT Warning: Could not find TensorRT\n"
     ]
    }
   ],
   "source": [
    "# Base python imports\n",
    "import os\n",
    "import sys\n",
    "import time\n",
    "import datetime\n",
    "\n",
    "# Assuming the notebook is located in <ROOT>/notebooks\n",
    "sys.path.append(os.path.abspath('..'))\n",
    "\n",
    "#PyPi imports\n",
    "import numpy as np\n",
    "import tensorflow as tf\n",
    "import matplotlib.pyplot as plt\n",
    "\n",
    "from tqdm import tqdm\n",
    "from dotenv import load_dotenv\n",
    "\n",
    "load_dotenv()\n",
    "\n",
    "# Custom imports\n",
    "from src.modeling.utils.OpticalFlowUtils import FlowReader\n",
    "from src.modeling.utils.OpticalFlowUtils import FlowVisualiser\n",
    "from src.modeling.utils.MPISintelUtils import MPISintelHandler\n",
    "from src.modeling.customML.customLosses.EndPointErrorLoss import AEPE_Loss\n",
    "from src.modeling.customML.customModels.OpticalFlowUnrolling import UnrolledOFModel"
   ]
  },
  {
   "cell_type": "code",
   "execution_count": 2,
   "metadata": {},
   "outputs": [
    {
     "name": "stdout",
     "output_type": "stream",
     "text": [
      "TensorFlow version: 2.16.2\n"
     ]
    }
   ],
   "source": [
    "print(f\"TensorFlow version: {tf.__version__}\")"
   ]
  },
  {
   "cell_type": "code",
   "execution_count": 3,
   "metadata": {},
   "outputs": [
    {
     "name": "stdout",
     "output_type": "stream",
     "text": [
      "GPU(s): [PhysicalDevice(name='/physical_device:GPU:0', device_type='GPU')]\n",
      "1 Physical GPUs, 1 Logical GPUs\n",
      "GPU(s): [PhysicalDevice(name='/physical_device:GPU:0', device_type='GPU')]\n"
     ]
    },
    {
     "name": "stderr",
     "output_type": "stream",
     "text": [
      "2024-09-29 12:44:35.447004: I external/local_xla/xla/stream_executor/cuda/cuda_executor.cc:984] could not open file to read NUMA node: /sys/bus/pci/devices/0000:01:00.0/numa_node\n",
      "Your kernel may have been built without NUMA support.\n",
      "2024-09-29 12:44:36.975136: I external/local_xla/xla/stream_executor/cuda/cuda_executor.cc:984] could not open file to read NUMA node: /sys/bus/pci/devices/0000:01:00.0/numa_node\n",
      "Your kernel may have been built without NUMA support.\n",
      "2024-09-29 12:44:36.975168: I external/local_xla/xla/stream_executor/cuda/cuda_executor.cc:984] could not open file to read NUMA node: /sys/bus/pci/devices/0000:01:00.0/numa_node\n",
      "Your kernel may have been built without NUMA support.\n",
      "2024-09-29 12:44:36.977749: I external/local_xla/xla/stream_executor/cuda/cuda_executor.cc:984] could not open file to read NUMA node: /sys/bus/pci/devices/0000:01:00.0/numa_node\n",
      "Your kernel may have been built without NUMA support.\n",
      "2024-09-29 12:44:36.977777: I external/local_xla/xla/stream_executor/cuda/cuda_executor.cc:984] could not open file to read NUMA node: /sys/bus/pci/devices/0000:01:00.0/numa_node\n",
      "Your kernel may have been built without NUMA support.\n",
      "2024-09-29 12:44:36.977789: I external/local_xla/xla/stream_executor/cuda/cuda_executor.cc:984] could not open file to read NUMA node: /sys/bus/pci/devices/0000:01:00.0/numa_node\n",
      "Your kernel may have been built without NUMA support.\n",
      "2024-09-29 12:44:37.185738: I external/local_xla/xla/stream_executor/cuda/cuda_executor.cc:984] could not open file to read NUMA node: /sys/bus/pci/devices/0000:01:00.0/numa_node\n",
      "Your kernel may have been built without NUMA support.\n",
      "2024-09-29 12:44:37.185756: I tensorflow/core/common_runtime/gpu/gpu_device.cc:2019] Could not identify NUMA node of platform GPU id 0, defaulting to 0.  Your kernel may not have been built with NUMA support.\n",
      "2024-09-29 12:44:37.185774: I external/local_xla/xla/stream_executor/cuda/cuda_executor.cc:984] could not open file to read NUMA node: /sys/bus/pci/devices/0000:01:00.0/numa_node\n",
      "Your kernel may have been built without NUMA support.\n",
      "2024-09-29 12:44:37.185792: I external/local_xla/xla/stream_executor/cuda/cuda_executor.cc:984] could not open file to read NUMA node: /sys/bus/pci/devices/0000:01:00.0/numa_node\n",
      "Your kernel may have been built without NUMA support.\n",
      "2024-09-29 12:44:37.203163: I tensorflow/core/common_runtime/gpu/gpu_device.cc:1928] Created device /job:localhost/replica:0/task:0/device:GPU:0 with 8192 MB memory:  -> device: 0, name: NVIDIA GeForce GTX 1080 Ti, pci bus id: 0000:01:00.0, compute capability: 6.1\n"
     ]
    }
   ],
   "source": [
    "gpus = tf.config.list_physical_devices('GPU')\n",
    "print(f\"GPU(s): {gpus}\")\n",
    "if gpus:\n",
    "    # Restrict TensorFlow to only allocate 8.1GB of memory on the first GPU\n",
    "    try:\n",
    "        tf.config.set_logical_device_configuration(gpus[0], [tf.config.LogicalDeviceConfiguration(memory_limit=float(os.environ.get(\"CUDA_MEMORY_LIMIT_MB\")))])\n",
    "        logical_gpus = tf.config.list_logical_devices('GPU')\n",
    "        print(f\"{len(gpus)} Physical GPUs, {len(logical_gpus)} Logical GPUs\")\n",
    "        print(f\"GPU(s): {gpus}\")\n",
    "    except RuntimeError as e:\n",
    "        # Virtual devices must be set before GPUs have been initialized\n",
    "        print(f\"Runtime Error: {e}\")"
   ]
  },
  {
   "cell_type": "code",
   "execution_count": 4,
   "metadata": {},
   "outputs": [
    {
     "data": {
      "text/plain": [
       "[LogicalDevice(name='/device:CPU:0', device_type='CPU'),\n",
       " LogicalDevice(name='/device:GPU:0', device_type='GPU')]"
      ]
     },
     "execution_count": 4,
     "metadata": {},
     "output_type": "execute_result"
    }
   ],
   "source": [
    "tf.config.list_logical_devices()"
   ]
  },
  {
   "cell_type": "code",
   "execution_count": 5,
   "metadata": {},
   "outputs": [
    {
     "data": {
      "text/plain": [
       "[PhysicalDevice(name='/physical_device:CPU:0', device_type='CPU'),\n",
       " PhysicalDevice(name='/physical_device:GPU:0', device_type='GPU')]"
      ]
     },
     "execution_count": 5,
     "metadata": {},
     "output_type": "execute_result"
    }
   ],
   "source": [
    "tf.config.list_physical_devices()"
   ]
  },
  {
   "cell_type": "code",
   "execution_count": 6,
   "metadata": {},
   "outputs": [],
   "source": [
    "reader = FlowReader()\n",
    "visualiser = FlowVisualiser()\n",
    "dataHandler = MPISintelHandler()"
   ]
  },
  {
   "cell_type": "code",
   "execution_count": 7,
   "metadata": {},
   "outputs": [
    {
     "name": "stdout",
     "output_type": "stream",
     "text": [
      "Sintel images shape: (1041, 2, 436, 1024)\n",
      "Sintel flows shape: (1041, 436, 1024, 2)\n"
     ]
    }
   ],
   "source": [
    "RAW_DATA_PATH = os.path.join(\"..\", \"data\", \"raw\")\n",
    "PROCESSED_DATA_PATH = os.path.join(\"..\", \"data\", \"processed\")\n",
    "\n",
    "IMAGES_PATH = os.path.join(PROCESSED_DATA_PATH, \"trainImages.data\")\n",
    "FLOWS_PATH = os.path.join(PROCESSED_DATA_PATH, \"trainFlows.data\")\n",
    "\n",
    "trainImgsArray = dataHandler.loadData(IMAGES_PATH)\n",
    "trainFlowsArray = dataHandler.loadData(FLOWS_PATH)\n",
    "\n",
    "print(f\"Sintel images shape: {trainImgsArray.shape}\")\n",
    "print(f\"Sintel flows shape: {trainFlowsArray.shape}\")"
   ]
  },
  {
   "cell_type": "code",
   "execution_count": 8,
   "metadata": {},
   "outputs": [],
   "source": [
    "TRAIN_IMAGES_PATH = os.path.join(PROCESSED_DATA_PATH, \"trainX.data\")\n",
    "TRAIN_FLOWS_PATH = os.path.join(PROCESSED_DATA_PATH, \"trainy.data\")\n",
    "\n",
    "train_X = dataHandler.loadData(TRAIN_IMAGES_PATH)\n",
    "train_X = train_X.astype('float32') / 255.0\n",
    "train_X = tf.reshape(train_X, shape=(-1, 2, 436, 1024, 1))\n",
    "\n",
    "train_y = dataHandler.loadData(TRAIN_FLOWS_PATH)\n",
    "train_y = train_y.astype('float32')\n",
    "\n",
    "TEST_IMAGES_PATH = os.path.join(PROCESSED_DATA_PATH, \"testX.data\")\n",
    "TEST_FLOWS_PATH = os.path.join(PROCESSED_DATA_PATH, \"testy.data\")\n",
    "\n",
    "test_X = dataHandler.loadData(TEST_IMAGES_PATH)\n",
    "test_X = test_X.astype('float32') / 255.0\n",
    "test_X = tf.reshape(test_X, shape=(-1, 2, 436, 1024, 1))\n",
    "\n",
    "test_y = dataHandler.loadData(TEST_FLOWS_PATH)\n",
    "test_y = test_y.astype('float32')\n",
    "\n",
    "VAL_IMAGES_PATH = os.path.join(PROCESSED_DATA_PATH, \"valX.data\")\n",
    "VAL_FLOWS_PATH = os.path.join(PROCESSED_DATA_PATH, \"valy.data\")\n",
    "\n",
    "val_X = dataHandler.loadData(VAL_IMAGES_PATH)\n",
    "val_X = val_X.astype('float32') / 255.0\n",
    "val_X = tf.reshape(val_X, shape=(-1, 2, 436, 1024, 1))\n",
    "\n",
    "val_y = dataHandler.loadData(VAL_FLOWS_PATH)\n",
    "val_y = val_y.astype('float32')"
   ]
  },
  {
   "cell_type": "code",
   "execution_count": 9,
   "metadata": {},
   "outputs": [
    {
     "name": "stdout",
     "output_type": "stream",
     "text": [
      "train_X: (510, 2, 436, 1024, 1) test_X: (297, 2, 436, 1024, 1) val_X: (234, 2, 436, 1024, 1) -> Total Samples: 1041\n",
      "train_y: (510, 436, 1024, 2) test_y: (297, 436, 1024, 2) val_y: (234, 436, 1024, 2) -> Total Samples: 1041\n"
     ]
    }
   ],
   "source": [
    "print(f\"train_X: {train_X.shape} test_X: {test_X.shape} val_X: {val_X.shape} -> Total Samples: {train_X.shape[0] + test_X.shape[0] + val_X.shape[0]}\")\n",
    "print(f\"train_y: {train_y.shape} test_y: {test_y.shape} val_y: {val_y.shape} -> Total Samples: {train_y.shape[0] + test_y.shape[0] + val_y.shape[0]}\")"
   ]
  },
  {
   "cell_type": "code",
   "execution_count": 10,
   "metadata": {},
   "outputs": [
    {
     "data": {
      "text/html": [
       "<pre style=\"white-space:pre;overflow-x:auto;line-height:normal;font-family:Menlo,'DejaVu Sans Mono',consolas,'Courier New',monospace\"><span style=\"font-weight: bold\">Model: \"UnrollingOF\"</span>\n",
       "</pre>\n"
      ],
      "text/plain": [
       "\u001b[1mModel: \"UnrollingOF\"\u001b[0m\n"
      ]
     },
     "metadata": {},
     "output_type": "display_data"
    },
    {
     "data": {
      "text/html": [
       "<pre style=\"white-space:pre;overflow-x:auto;line-height:normal;font-family:Menlo,'DejaVu Sans Mono',consolas,'Courier New',monospace\">┏━━━━━━━━━━━━━━━━━━━━━━━━━━━━━━━━━┳━━━━━━━━━━━━━━━━━━━━━━━━┳━━━━━━━━━━━━━━━┓\n",
       "┃<span style=\"font-weight: bold\"> Layer (type)                    </span>┃<span style=\"font-weight: bold\"> Output Shape           </span>┃<span style=\"font-weight: bold\">       Param # </span>┃\n",
       "┡━━━━━━━━━━━━━━━━━━━━━━━━━━━━━━━━━╇━━━━━━━━━━━━━━━━━━━━━━━━╇━━━━━━━━━━━━━━━┩\n",
       "│ conv2d (<span style=\"color: #0087ff; text-decoration-color: #0087ff\">Conv2D</span>)                 │ ?                      │   <span style=\"color: #00af00; text-decoration-color: #00af00\">0</span> (unbuilt) │\n",
       "├─────────────────────────────────┼────────────────────────┼───────────────┤\n",
       "│ cost_volume_correlation_layer   │ ?                      │   <span style=\"color: #00af00; text-decoration-color: #00af00\">0</span> (unbuilt) │\n",
       "│ (<span style=\"color: #0087ff; text-decoration-color: #0087ff\">CostVolumeCorrelationLayer</span>)    │                        │               │\n",
       "├─────────────────────────────────┼────────────────────────┼───────────────┤\n",
       "│ ImagePyramidLayer               │ ?                      │   <span style=\"color: #00af00; text-decoration-color: #00af00\">0</span> (unbuilt) │\n",
       "│ (<span style=\"color: #0087ff; text-decoration-color: #0087ff\">ImagePyramidLayer</span>)             │                        │               │\n",
       "├─────────────────────────────────┼────────────────────────┼───────────────┤\n",
       "│ conv2d_1 (<span style=\"color: #0087ff; text-decoration-color: #0087ff\">Conv2D</span>)               │ ?                      │   <span style=\"color: #00af00; text-decoration-color: #00af00\">0</span> (unbuilt) │\n",
       "├─────────────────────────────────┼────────────────────────┼───────────────┤\n",
       "│ up_sampling2d (<span style=\"color: #0087ff; text-decoration-color: #0087ff\">UpSampling2D</span>)    │ ?                      │   <span style=\"color: #00af00; text-decoration-color: #00af00\">0</span> (unbuilt) │\n",
       "├─────────────────────────────────┼────────────────────────┼───────────────┤\n",
       "│ conv2d_2 (<span style=\"color: #0087ff; text-decoration-color: #0087ff\">Conv2D</span>)               │ ?                      │   <span style=\"color: #00af00; text-decoration-color: #00af00\">0</span> (unbuilt) │\n",
       "└─────────────────────────────────┴────────────────────────┴───────────────┘\n",
       "</pre>\n"
      ],
      "text/plain": [
       "┏━━━━━━━━━━━━━━━━━━━━━━━━━━━━━━━━━┳━━━━━━━━━━━━━━━━━━━━━━━━┳━━━━━━━━━━━━━━━┓\n",
       "┃\u001b[1m \u001b[0m\u001b[1mLayer (type)                   \u001b[0m\u001b[1m \u001b[0m┃\u001b[1m \u001b[0m\u001b[1mOutput Shape          \u001b[0m\u001b[1m \u001b[0m┃\u001b[1m \u001b[0m\u001b[1m      Param #\u001b[0m\u001b[1m \u001b[0m┃\n",
       "┡━━━━━━━━━━━━━━━━━━━━━━━━━━━━━━━━━╇━━━━━━━━━━━━━━━━━━━━━━━━╇━━━━━━━━━━━━━━━┩\n",
       "│ conv2d (\u001b[38;5;33mConv2D\u001b[0m)                 │ ?                      │   \u001b[38;5;34m0\u001b[0m (unbuilt) │\n",
       "├─────────────────────────────────┼────────────────────────┼───────────────┤\n",
       "│ cost_volume_correlation_layer   │ ?                      │   \u001b[38;5;34m0\u001b[0m (unbuilt) │\n",
       "│ (\u001b[38;5;33mCostVolumeCorrelationLayer\u001b[0m)    │                        │               │\n",
       "├─────────────────────────────────┼────────────────────────┼───────────────┤\n",
       "│ ImagePyramidLayer               │ ?                      │   \u001b[38;5;34m0\u001b[0m (unbuilt) │\n",
       "│ (\u001b[38;5;33mImagePyramidLayer\u001b[0m)             │                        │               │\n",
       "├─────────────────────────────────┼────────────────────────┼───────────────┤\n",
       "│ conv2d_1 (\u001b[38;5;33mConv2D\u001b[0m)               │ ?                      │   \u001b[38;5;34m0\u001b[0m (unbuilt) │\n",
       "├─────────────────────────────────┼────────────────────────┼───────────────┤\n",
       "│ up_sampling2d (\u001b[38;5;33mUpSampling2D\u001b[0m)    │ ?                      │   \u001b[38;5;34m0\u001b[0m (unbuilt) │\n",
       "├─────────────────────────────────┼────────────────────────┼───────────────┤\n",
       "│ conv2d_2 (\u001b[38;5;33mConv2D\u001b[0m)               │ ?                      │   \u001b[38;5;34m0\u001b[0m (unbuilt) │\n",
       "└─────────────────────────────────┴────────────────────────┴───────────────┘\n"
      ]
     },
     "metadata": {},
     "output_type": "display_data"
    },
    {
     "data": {
      "text/html": [
       "<pre style=\"white-space:pre;overflow-x:auto;line-height:normal;font-family:Menlo,'DejaVu Sans Mono',consolas,'Courier New',monospace\"><span style=\"font-weight: bold\"> Total params: </span><span style=\"color: #00af00; text-decoration-color: #00af00\">0</span> (0.00 B)\n",
       "</pre>\n"
      ],
      "text/plain": [
       "\u001b[1m Total params: \u001b[0m\u001b[38;5;34m0\u001b[0m (0.00 B)\n"
      ]
     },
     "metadata": {},
     "output_type": "display_data"
    },
    {
     "data": {
      "text/html": [
       "<pre style=\"white-space:pre;overflow-x:auto;line-height:normal;font-family:Menlo,'DejaVu Sans Mono',consolas,'Courier New',monospace\"><span style=\"font-weight: bold\"> Trainable params: </span><span style=\"color: #00af00; text-decoration-color: #00af00\">0</span> (0.00 B)\n",
       "</pre>\n"
      ],
      "text/plain": [
       "\u001b[1m Trainable params: \u001b[0m\u001b[38;5;34m0\u001b[0m (0.00 B)\n"
      ]
     },
     "metadata": {},
     "output_type": "display_data"
    },
    {
     "data": {
      "text/html": [
       "<pre style=\"white-space:pre;overflow-x:auto;line-height:normal;font-family:Menlo,'DejaVu Sans Mono',consolas,'Courier New',monospace\"><span style=\"font-weight: bold\"> Non-trainable params: </span><span style=\"color: #00af00; text-decoration-color: #00af00\">0</span> (0.00 B)\n",
       "</pre>\n"
      ],
      "text/plain": [
       "\u001b[1m Non-trainable params: \u001b[0m\u001b[38;5;34m0\u001b[0m (0.00 B)\n"
      ]
     },
     "metadata": {},
     "output_type": "display_data"
    }
   ],
   "source": [
    "model = UnrolledOFModel(num_iterations = 5, numPyramidLevels=2, correlationMaxDisplacement = 2, name = \"UnrollingOF\")\n",
    "model.summary()"
   ]
  },
  {
   "cell_type": "code",
   "execution_count": 11,
   "metadata": {},
   "outputs": [],
   "source": [
    "log_dir = os.path.join(\"..\", \"assets\", \"logs\", \"fits\", f\"{model.name}_{datetime.datetime.now().strftime('%Y%m%d-%H%M%S')}\")\n",
    "tensorboard_callback = tf.keras.callbacks.TensorBoard(log_dir=log_dir, histogram_freq=1, write_images=True)\n",
    "\n",
    "modelDir = os.path.join(\"..\", \"assets\", \"ml\", \"models\", model.name)\n",
    "if not os.path.exists(modelDir):\n",
    "    os.makedirs(modelDir)\n",
    "\n",
    "modelPath = os.path.join(modelDir, f\"{model.name}_best.weights.h5\")\n",
    "model_checkpoint_callback = tf.keras.callbacks.ModelCheckpoint(filepath=modelPath, monitor='val_loss', save_best_only=True, save_weights_only=True)\n",
    "\n",
    "learning_rate_callback = tf.keras.callbacks.ReduceLROnPlateau(factor=0.85, patience=50, min_lr=1e-6)\n",
    "_callbacks = [tensorboard_callback, model_checkpoint_callback, learning_rate_callback]\n",
    "\n",
    "callbacks = tf.keras.callbacks.CallbackList(_callbacks, add_history=False)\n",
    "\n",
    "fileWriter = tf.summary.create_file_writer(os.path.join(log_dir, \"metrics\"))\n",
    "fileWriter.set_as_default()"
   ]
  },
  {
   "cell_type": "code",
   "execution_count": 12,
   "metadata": {},
   "outputs": [
    {
     "name": "stdout",
     "output_type": "stream",
     "text": [
      "No model to load\n"
     ]
    }
   ],
   "source": [
    "if os.path.isfile(modelPath):\n",
    "    print(f\"Loading model from path: {modelPath}\")\n",
    "    model.load_weights(modelPath)\n",
    "else:\n",
    "    print(\"No model to load\")"
   ]
  },
  {
   "cell_type": "code",
   "execution_count": 13,
   "metadata": {},
   "outputs": [],
   "source": [
    "optimizer = tf.keras.optimizers.Adam(learning_rate=1e-5, beta_1=0.9, beta_2=0.999)"
   ]
  },
  {
   "cell_type": "code",
   "execution_count": 14,
   "metadata": {},
   "outputs": [
    {
     "name": "stderr",
     "output_type": "stream",
     "text": [
      "/mnt/a/OneDrive/Repos/PIOFE-Unrolling/.venv-linux/lib/python3.10/site-packages/keras/src/layers/layer.py:372: UserWarning: `build()` was called on layer 'UnrollingOF', however the layer does not have a `build()` method implemented and it looks like it has unbuilt state. This will cause the layer to be marked as built, despite not being actually built, which may cause failures down the line. Make sure to implement a proper `build()` method.\n",
      "  warnings.warn(\n"
     ]
    },
    {
     "data": {
      "text/html": [
       "<pre style=\"white-space:pre;overflow-x:auto;line-height:normal;font-family:Menlo,'DejaVu Sans Mono',consolas,'Courier New',monospace\"><span style=\"font-weight: bold\">Model: \"UnrollingOF\"</span>\n",
       "</pre>\n"
      ],
      "text/plain": [
       "\u001b[1mModel: \"UnrollingOF\"\u001b[0m\n"
      ]
     },
     "metadata": {},
     "output_type": "display_data"
    },
    {
     "data": {
      "text/html": [
       "<pre style=\"white-space:pre;overflow-x:auto;line-height:normal;font-family:Menlo,'DejaVu Sans Mono',consolas,'Courier New',monospace\">┏━━━━━━━━━━━━━━━━━━━━━━━━━━━━━━━━━┳━━━━━━━━━━━━━━━━━━━━━━━━┳━━━━━━━━━━━━━━━┓\n",
       "┃<span style=\"font-weight: bold\"> Layer (type)                    </span>┃<span style=\"font-weight: bold\"> Output Shape           </span>┃<span style=\"font-weight: bold\">       Param # </span>┃\n",
       "┡━━━━━━━━━━━━━━━━━━━━━━━━━━━━━━━━━╇━━━━━━━━━━━━━━━━━━━━━━━━╇━━━━━━━━━━━━━━━┩\n",
       "│ conv2d (<span style=\"color: #0087ff; text-decoration-color: #0087ff\">Conv2D</span>)                 │ ?                      │   <span style=\"color: #00af00; text-decoration-color: #00af00\">0</span> (unbuilt) │\n",
       "├─────────────────────────────────┼────────────────────────┼───────────────┤\n",
       "│ cost_volume_correlation_layer   │ ?                      │   <span style=\"color: #00af00; text-decoration-color: #00af00\">0</span> (unbuilt) │\n",
       "│ (<span style=\"color: #0087ff; text-decoration-color: #0087ff\">CostVolumeCorrelationLayer</span>)    │                        │               │\n",
       "├─────────────────────────────────┼────────────────────────┼───────────────┤\n",
       "│ ImagePyramidLayer               │ ?                      │   <span style=\"color: #00af00; text-decoration-color: #00af00\">0</span> (unbuilt) │\n",
       "│ (<span style=\"color: #0087ff; text-decoration-color: #0087ff\">ImagePyramidLayer</span>)             │                        │               │\n",
       "├─────────────────────────────────┼────────────────────────┼───────────────┤\n",
       "│ conv2d_1 (<span style=\"color: #0087ff; text-decoration-color: #0087ff\">Conv2D</span>)               │ ?                      │   <span style=\"color: #00af00; text-decoration-color: #00af00\">0</span> (unbuilt) │\n",
       "├─────────────────────────────────┼────────────────────────┼───────────────┤\n",
       "│ up_sampling2d (<span style=\"color: #0087ff; text-decoration-color: #0087ff\">UpSampling2D</span>)    │ ?                      │   <span style=\"color: #00af00; text-decoration-color: #00af00\">0</span> (unbuilt) │\n",
       "├─────────────────────────────────┼────────────────────────┼───────────────┤\n",
       "│ conv2d_2 (<span style=\"color: #0087ff; text-decoration-color: #0087ff\">Conv2D</span>)               │ ?                      │   <span style=\"color: #00af00; text-decoration-color: #00af00\">0</span> (unbuilt) │\n",
       "└─────────────────────────────────┴────────────────────────┴───────────────┘\n",
       "</pre>\n"
      ],
      "text/plain": [
       "┏━━━━━━━━━━━━━━━━━━━━━━━━━━━━━━━━━┳━━━━━━━━━━━━━━━━━━━━━━━━┳━━━━━━━━━━━━━━━┓\n",
       "┃\u001b[1m \u001b[0m\u001b[1mLayer (type)                   \u001b[0m\u001b[1m \u001b[0m┃\u001b[1m \u001b[0m\u001b[1mOutput Shape          \u001b[0m\u001b[1m \u001b[0m┃\u001b[1m \u001b[0m\u001b[1m      Param #\u001b[0m\u001b[1m \u001b[0m┃\n",
       "┡━━━━━━━━━━━━━━━━━━━━━━━━━━━━━━━━━╇━━━━━━━━━━━━━━━━━━━━━━━━╇━━━━━━━━━━━━━━━┩\n",
       "│ conv2d (\u001b[38;5;33mConv2D\u001b[0m)                 │ ?                      │   \u001b[38;5;34m0\u001b[0m (unbuilt) │\n",
       "├─────────────────────────────────┼────────────────────────┼───────────────┤\n",
       "│ cost_volume_correlation_layer   │ ?                      │   \u001b[38;5;34m0\u001b[0m (unbuilt) │\n",
       "│ (\u001b[38;5;33mCostVolumeCorrelationLayer\u001b[0m)    │                        │               │\n",
       "├─────────────────────────────────┼────────────────────────┼───────────────┤\n",
       "│ ImagePyramidLayer               │ ?                      │   \u001b[38;5;34m0\u001b[0m (unbuilt) │\n",
       "│ (\u001b[38;5;33mImagePyramidLayer\u001b[0m)             │                        │               │\n",
       "├─────────────────────────────────┼────────────────────────┼───────────────┤\n",
       "│ conv2d_1 (\u001b[38;5;33mConv2D\u001b[0m)               │ ?                      │   \u001b[38;5;34m0\u001b[0m (unbuilt) │\n",
       "├─────────────────────────────────┼────────────────────────┼───────────────┤\n",
       "│ up_sampling2d (\u001b[38;5;33mUpSampling2D\u001b[0m)    │ ?                      │   \u001b[38;5;34m0\u001b[0m (unbuilt) │\n",
       "├─────────────────────────────────┼────────────────────────┼───────────────┤\n",
       "│ conv2d_2 (\u001b[38;5;33mConv2D\u001b[0m)               │ ?                      │   \u001b[38;5;34m0\u001b[0m (unbuilt) │\n",
       "└─────────────────────────────────┴────────────────────────┴───────────────┘\n"
      ]
     },
     "metadata": {},
     "output_type": "display_data"
    },
    {
     "data": {
      "text/html": [
       "<pre style=\"white-space:pre;overflow-x:auto;line-height:normal;font-family:Menlo,'DejaVu Sans Mono',consolas,'Courier New',monospace\"><span style=\"font-weight: bold\"> Total params: </span><span style=\"color: #00af00; text-decoration-color: #00af00\">0</span> (0.00 B)\n",
       "</pre>\n"
      ],
      "text/plain": [
       "\u001b[1m Total params: \u001b[0m\u001b[38;5;34m0\u001b[0m (0.00 B)\n"
      ]
     },
     "metadata": {},
     "output_type": "display_data"
    },
    {
     "data": {
      "text/html": [
       "<pre style=\"white-space:pre;overflow-x:auto;line-height:normal;font-family:Menlo,'DejaVu Sans Mono',consolas,'Courier New',monospace\"><span style=\"font-weight: bold\"> Trainable params: </span><span style=\"color: #00af00; text-decoration-color: #00af00\">0</span> (0.00 B)\n",
       "</pre>\n"
      ],
      "text/plain": [
       "\u001b[1m Trainable params: \u001b[0m\u001b[38;5;34m0\u001b[0m (0.00 B)\n"
      ]
     },
     "metadata": {},
     "output_type": "display_data"
    },
    {
     "data": {
      "text/html": [
       "<pre style=\"white-space:pre;overflow-x:auto;line-height:normal;font-family:Menlo,'DejaVu Sans Mono',consolas,'Courier New',monospace\"><span style=\"font-weight: bold\"> Non-trainable params: </span><span style=\"color: #00af00; text-decoration-color: #00af00\">0</span> (0.00 B)\n",
       "</pre>\n"
      ],
      "text/plain": [
       "\u001b[1m Non-trainable params: \u001b[0m\u001b[38;5;34m0\u001b[0m (0.00 B)\n"
      ]
     },
     "metadata": {},
     "output_type": "display_data"
    }
   ],
   "source": [
    "model.compile(optimizer=optimizer, loss=AEPE_Loss(), metrics = ['mse'])\n",
    "# TODO: Fix the below implementation for the older version of tensorflow.\n",
    "# Issue appears with the building with the batch size being of 'None' type.\n",
    "model.build(input_shape=(None, 2, 436, 1024, 1))\n",
    "model.summary()"
   ]
  },
  {
   "cell_type": "code",
   "execution_count": 15,
   "metadata": {},
   "outputs": [
    {
     "data": {
      "text/plain": [
       "[]"
      ]
     },
     "execution_count": 15,
     "metadata": {},
     "output_type": "execute_result"
    }
   ],
   "source": [
    "tf.compat.v1.trainable_variables(model)"
   ]
  },
  {
   "cell_type": "code",
   "execution_count": 16,
   "metadata": {},
   "outputs": [
    {
     "name": "stdout",
     "output_type": "stream",
     "text": [
      "Epoch 1/15\n"
     ]
    },
    {
     "name": "stderr",
     "output_type": "stream",
     "text": [
      "WARNING: All log messages before absl::InitializeLog() is called are written to STDERR\n",
      "I0000 00:00:1727585107.705370    7607 service.cc:145] XLA service 0x7fbfdc014c90 initialized for platform CUDA (this does not guarantee that XLA will be used). Devices:\n",
      "I0000 00:00:1727585107.705410    7607 service.cc:153]   StreamExecutor device (0): NVIDIA GeForce GTX 1080 Ti, Compute Capability 6.1\n",
      "2024-09-29 12:45:08.767887: I tensorflow/compiler/mlir/tensorflow/utils/dump_mlir_util.cc:268] disabling MLIR crash reproducer, set env var `MLIR_CRASH_REPRODUCER_DIRECTORY` to enable.\n",
      "2024-09-29 12:45:09.290367: I external/local_xla/xla/stream_executor/cuda/cuda_dnn.cc:465] Loaded cuDNN version 8907\n",
      "2024-09-29 12:45:10.342408: E external/local_xla/xla/service/slow_operation_alarm.cc:65] Constant folding an instruction is taking > 1s:\n",
      "\n",
      "  %slice.242 = f32[1,1,436,1024,1]{4,3,2,1,0} slice(f32[1,2,436,1024,1]{4,3,2,1,0} %constant.241), slice={[0:1], [0:1], [0:436], [0:1024], [0:1]}, metadata={op_type=\"StridedSlice\" op_name=\"UnrollingOF_1/StatefulPartitionedCall/strided_slice\" source_file=\"/mnt/a/OneDrive/Repos/PIOFE-Unrolling/.venv-linux/lib/python3.10/site-packages/tensorflow/python/framework/ops.py\" source_line=1177}\n",
      "\n",
      "This isn't necessarily a bug; constant-folding is inherently a trade-off between compilation time and speed at runtime. XLA has some guards that attempt to keep constant folding from taking too long, but fundamentally you'll always be able to come up with an input program that takes a long time.\n",
      "\n",
      "If you'd like to file a bug, run with envvar XLA_FLAGS=--xla_dump_to=/tmp/foo and attach the results.\n",
      "2024-09-29 12:45:12.455616: E external/local_xla/xla/service/slow_operation_alarm.cc:133] The operation took 3.113288045s\n",
      "Constant folding an instruction is taking > 1s:\n",
      "\n",
      "  %slice.242 = f32[1,1,436,1024,1]{4,3,2,1,0} slice(f32[1,2,436,1024,1]{4,3,2,1,0} %constant.241), slice={[0:1], [0:1], [0:436], [0:1024], [0:1]}, metadata={op_type=\"StridedSlice\" op_name=\"UnrollingOF_1/StatefulPartitionedCall/strided_slice\" source_file=\"/mnt/a/OneDrive/Repos/PIOFE-Unrolling/.venv-linux/lib/python3.10/site-packages/tensorflow/python/framework/ops.py\" source_line=1177}\n",
      "\n",
      "This isn't necessarily a bug; constant-folding is inherently a trade-off between compilation time and speed at runtime. XLA has some guards that attempt to keep constant folding from taking too long, but fundamentally you'll always be able to come up with an input program that takes a long time.\n",
      "\n",
      "If you'd like to file a bug, run with envvar XLA_FLAGS=--xla_dump_to=/tmp/foo and attach the results.\n",
      "2024-09-29 12:45:14.456833: E external/local_xla/xla/service/slow_operation_alarm.cc:65] Constant folding an instruction is taking > 2s:\n",
      "\n",
      "  %convolution.458 = f32[1,436,1024,32]{3,2,1,0} convolution(f32[1,436,1024,1]{3,2,1,0} %constant.256, f32[3,3,1,32]{3,2,1,0} %constant.431), window={size=3x3 pad=1_1x1_1}, dim_labels=b01f_01io->b01f, metadata={op_type=\"Conv2D\" op_name=\"UnrollingOF_1/StatefulPartitionedCall/conv2d_1/convolution\" source_file=\"/mnt/a/OneDrive/Repos/PIOFE-Unrolling/.venv-linux/lib/python3.10/site-packages/tensorflow/python/framework/ops.py\" source_line=1177}\n",
      "\n",
      "This isn't necessarily a bug; constant-folding is inherently a trade-off between compilation time and speed at runtime. XLA has some guards that attempt to keep constant folding from taking too long, but fundamentally you'll always be able to come up with an input program that takes a long time.\n",
      "\n",
      "If you'd like to file a bug, run with envvar XLA_FLAGS=--xla_dump_to=/tmp/foo and attach the results.\n",
      "2024-09-29 12:45:15.153983: E external/local_xla/xla/service/slow_operation_alarm.cc:133] The operation took 2.697219269s\n",
      "Constant folding an instruction is taking > 2s:\n",
      "\n",
      "  %convolution.458 = f32[1,436,1024,32]{3,2,1,0} convolution(f32[1,436,1024,1]{3,2,1,0} %constant.256, f32[3,3,1,32]{3,2,1,0} %constant.431), window={size=3x3 pad=1_1x1_1}, dim_labels=b01f_01io->b01f, metadata={op_type=\"Conv2D\" op_name=\"UnrollingOF_1/StatefulPartitionedCall/conv2d_1/convolution\" source_file=\"/mnt/a/OneDrive/Repos/PIOFE-Unrolling/.venv-linux/lib/python3.10/site-packages/tensorflow/python/framework/ops.py\" source_line=1177}\n",
      "\n",
      "This isn't necessarily a bug; constant-folding is inherently a trade-off between compilation time and speed at runtime. XLA has some guards that attempt to keep constant folding from taking too long, but fundamentally you'll always be able to come up with an input program that takes a long time.\n",
      "\n",
      "If you'd like to file a bug, run with envvar XLA_FLAGS=--xla_dump_to=/tmp/foo and attach the results.\n",
      "2024-09-29 12:50:12.747470: W external/local_tsl/tsl/framework/bfc_allocator.cc:296] Allocator (GPU_0_bfc) ran out of memory trying to allocate 3.97GiB with freed_by_count=0. The caller indicates that this is not a failure, but this may mean that there could be performance gains if more memory were available.\n",
      "2024-09-29 12:50:12.898858: W external/local_tsl/tsl/framework/bfc_allocator.cc:296] Allocator (GPU_0_bfc) ran out of memory trying to allocate 3.97GiB with freed_by_count=0. The caller indicates that this is not a failure, but this may mean that there could be performance gains if more memory were available.\n",
      "2024-09-29 12:50:13.066604: W external/local_tsl/tsl/framework/bfc_allocator.cc:296] Allocator (GPU_0_bfc) ran out of memory trying to allocate 3.55GiB with freed_by_count=0. The caller indicates that this is not a failure, but this may mean that there could be performance gains if more memory were available.\n",
      "WARNING: All log messages before absl::InitializeLog() is called are written to STDERR\n",
      "I0000 00:00:1727585416.997197    7607 asm_compiler.cc:369] ptxas warning : Registers are spilled to local memory in function 'input_add_reduce_select_fusion_1', 14240 bytes spill stores, 18640 bytes spill loads\n",
      "\n",
      "I0000 00:00:1727585417.004497    7607 device_compiler.h:188] Compiled cluster using XLA!  This line is logged at most once for the lifetime of the process.\n"
     ]
    },
    {
     "name": "stdout",
     "output_type": "stream",
     "text": [
      "\u001b[1m  1/510\u001b[0m \u001b[37m━━━━━━━━━━━━━━━━━━━━\u001b[0m \u001b[1m44:30:19\u001b[0m 315s/step - loss: 1.0404 - mse: 5.1873"
     ]
    },
    {
     "name": "stderr",
     "output_type": "stream",
     "text": [
      "I0000 00:00:1727585731.622196    7606 asm_compiler.cc:369] ptxas warning : Registers are spilled to local memory in function 'input_add_reduce_select_fusion_1', 14240 bytes spill stores, 18640 bytes spill loads\n",
      "\n"
     ]
    },
    {
     "name": "stdout",
     "output_type": "stream",
     "text": [
      "\u001b[1m  7/510\u001b[0m \u001b[37m━━━━━━━━━━━━━━━━━━━━\u001b[0m \u001b[1m44:28:46\u001b[0m 318s/step - loss: 21.2712 - mse: 902.4386"
     ]
    },
    {
     "name": "stderr",
     "output_type": "stream",
     "text": [
      "2024-09-29 13:27:26.575950: I external/local_xla/xla/stream_executor/cuda/cuda_driver.cc:1566] failed to allocate 54.50MiB (57147392 bytes) from device: CUDA_ERROR_OUT_OF_MEMORY: out of memory\n",
      "2024-09-29 13:27:26.576183: W tensorflow/core/framework/local_rendezvous.cc:404] Local rendezvous is aborting with status: INTERNAL: Failed to allocate 57147392 bytes for new constant\n",
      "\t [[{{node StatefulPartitionedCall}}]]\n"
     ]
    },
    {
     "ename": "InternalError",
     "evalue": "Graph execution error:\n\nDetected at node StatefulPartitionedCall defined at (most recent call last):\n  File \"/usr/lib/python3.10/runpy.py\", line 196, in _run_module_as_main\n\n  File \"/usr/lib/python3.10/runpy.py\", line 86, in _run_code\n\n  File \"/mnt/a/OneDrive/Repos/PIOFE-Unrolling/.venv-linux/lib/python3.10/site-packages/ipykernel_launcher.py\", line 18, in <module>\n\n  File \"/mnt/a/OneDrive/Repos/PIOFE-Unrolling/.venv-linux/lib/python3.10/site-packages/traitlets/config/application.py\", line 1075, in launch_instance\n\n  File \"/mnt/a/OneDrive/Repos/PIOFE-Unrolling/.venv-linux/lib/python3.10/site-packages/ipykernel/kernelapp.py\", line 739, in start\n\n  File \"/mnt/a/OneDrive/Repos/PIOFE-Unrolling/.venv-linux/lib/python3.10/site-packages/tornado/platform/asyncio.py\", line 205, in start\n\n  File \"/usr/lib/python3.10/asyncio/base_events.py\", line 603, in run_forever\n\n  File \"/usr/lib/python3.10/asyncio/base_events.py\", line 1909, in _run_once\n\n  File \"/usr/lib/python3.10/asyncio/events.py\", line 80, in _run\n\n  File \"/mnt/a/OneDrive/Repos/PIOFE-Unrolling/.venv-linux/lib/python3.10/site-packages/ipykernel/kernelbase.py\", line 545, in dispatch_queue\n\n  File \"/mnt/a/OneDrive/Repos/PIOFE-Unrolling/.venv-linux/lib/python3.10/site-packages/ipykernel/kernelbase.py\", line 534, in process_one\n\n  File \"/mnt/a/OneDrive/Repos/PIOFE-Unrolling/.venv-linux/lib/python3.10/site-packages/ipykernel/kernelbase.py\", line 437, in dispatch_shell\n\n  File \"/mnt/a/OneDrive/Repos/PIOFE-Unrolling/.venv-linux/lib/python3.10/site-packages/ipykernel/ipkernel.py\", line 362, in execute_request\n\n  File \"/mnt/a/OneDrive/Repos/PIOFE-Unrolling/.venv-linux/lib/python3.10/site-packages/ipykernel/kernelbase.py\", line 778, in execute_request\n\n  File \"/mnt/a/OneDrive/Repos/PIOFE-Unrolling/.venv-linux/lib/python3.10/site-packages/ipykernel/ipkernel.py\", line 449, in do_execute\n\n  File \"/mnt/a/OneDrive/Repos/PIOFE-Unrolling/.venv-linux/lib/python3.10/site-packages/ipykernel/zmqshell.py\", line 549, in run_cell\n\n  File \"/mnt/a/OneDrive/Repos/PIOFE-Unrolling/.venv-linux/lib/python3.10/site-packages/IPython/core/interactiveshell.py\", line 3075, in run_cell\n\n  File \"/mnt/a/OneDrive/Repos/PIOFE-Unrolling/.venv-linux/lib/python3.10/site-packages/IPython/core/interactiveshell.py\", line 3130, in _run_cell\n\n  File \"/mnt/a/OneDrive/Repos/PIOFE-Unrolling/.venv-linux/lib/python3.10/site-packages/IPython/core/async_helpers.py\", line 128, in _pseudo_sync_runner\n\n  File \"/mnt/a/OneDrive/Repos/PIOFE-Unrolling/.venv-linux/lib/python3.10/site-packages/IPython/core/interactiveshell.py\", line 3334, in run_cell_async\n\n  File \"/mnt/a/OneDrive/Repos/PIOFE-Unrolling/.venv-linux/lib/python3.10/site-packages/IPython/core/interactiveshell.py\", line 3517, in run_ast_nodes\n\n  File \"/mnt/a/OneDrive/Repos/PIOFE-Unrolling/.venv-linux/lib/python3.10/site-packages/IPython/core/interactiveshell.py\", line 3577, in run_code\n\n  File \"/tmp/ipykernel_7096/272017144.py\", line 1, in <module>\n\n  File \"/mnt/a/OneDrive/Repos/PIOFE-Unrolling/.venv-linux/lib/python3.10/site-packages/keras/src/utils/traceback_utils.py\", line 117, in error_handler\n\n  File \"/mnt/a/OneDrive/Repos/PIOFE-Unrolling/.venv-linux/lib/python3.10/site-packages/keras/src/backend/tensorflow/trainer.py\", line 318, in fit\n\n  File \"/mnt/a/OneDrive/Repos/PIOFE-Unrolling/.venv-linux/lib/python3.10/site-packages/keras/src/backend/tensorflow/trainer.py\", line 121, in one_step_on_iterator\n\nFailed to allocate 57147392 bytes for new constant\n\t [[{{node StatefulPartitionedCall}}]] [Op:__inference_one_step_on_iterator_3678]",
     "output_type": "error",
     "traceback": [
      "\u001b[0;31m---------------------------------------------------------------------------\u001b[0m",
      "\u001b[0;31mInternalError\u001b[0m                             Traceback (most recent call last)",
      "Cell \u001b[0;32mIn[16], line 1\u001b[0m\n\u001b[0;32m----> 1\u001b[0m hist \u001b[38;5;241m=\u001b[39m \u001b[43mmodel\u001b[49m\u001b[38;5;241;43m.\u001b[39;49m\u001b[43mfit\u001b[49m\u001b[43m(\u001b[49m\u001b[43mx\u001b[49m\u001b[38;5;241;43m=\u001b[39;49m\u001b[43mtrain_X\u001b[49m\u001b[43m,\u001b[49m\u001b[43m \u001b[49m\u001b[43my\u001b[49m\u001b[38;5;241;43m=\u001b[39;49m\u001b[43mtrain_y\u001b[49m\u001b[43m,\u001b[49m\u001b[43m \u001b[49m\u001b[43mepochs\u001b[49m\u001b[43m \u001b[49m\u001b[38;5;241;43m=\u001b[39;49m\u001b[43m \u001b[49m\u001b[38;5;241;43m15\u001b[39;49m\u001b[43m,\u001b[49m\u001b[43m \u001b[49m\u001b[43mverbose\u001b[49m\u001b[43m \u001b[49m\u001b[38;5;241;43m=\u001b[39;49m\u001b[43m \u001b[49m\u001b[38;5;28;43;01mTrue\u001b[39;49;00m\u001b[43m,\u001b[49m\u001b[43m \u001b[49m\u001b[43mbatch_size\u001b[49m\u001b[38;5;241;43m=\u001b[39;49m\u001b[38;5;241;43m1\u001b[39;49m\u001b[43m,\u001b[49m\u001b[43m \u001b[49m\u001b[43mvalidation_data\u001b[49m\u001b[38;5;241;43m=\u001b[39;49m\u001b[43m(\u001b[49m\u001b[43mtest_X\u001b[49m\u001b[43m,\u001b[49m\u001b[43m \u001b[49m\u001b[43mtest_y\u001b[49m\u001b[43m)\u001b[49m\u001b[43m,\u001b[49m\u001b[43m \u001b[49m\u001b[43mcallbacks\u001b[49m\u001b[38;5;241;43m=\u001b[39;49m\u001b[43m_callbacks\u001b[49m\u001b[43m)\u001b[49m\n",
      "File \u001b[0;32m/mnt/a/OneDrive/Repos/PIOFE-Unrolling/.venv-linux/lib/python3.10/site-packages/keras/src/utils/traceback_utils.py:122\u001b[0m, in \u001b[0;36mfilter_traceback.<locals>.error_handler\u001b[0;34m(*args, **kwargs)\u001b[0m\n\u001b[1;32m    119\u001b[0m     filtered_tb \u001b[38;5;241m=\u001b[39m _process_traceback_frames(e\u001b[38;5;241m.\u001b[39m__traceback__)\n\u001b[1;32m    120\u001b[0m     \u001b[38;5;66;03m# To get the full stack trace, call:\u001b[39;00m\n\u001b[1;32m    121\u001b[0m     \u001b[38;5;66;03m# `keras.config.disable_traceback_filtering()`\u001b[39;00m\n\u001b[0;32m--> 122\u001b[0m     \u001b[38;5;28;01mraise\u001b[39;00m e\u001b[38;5;241m.\u001b[39mwith_traceback(filtered_tb) \u001b[38;5;28;01mfrom\u001b[39;00m \u001b[38;5;28;01mNone\u001b[39;00m\n\u001b[1;32m    123\u001b[0m \u001b[38;5;28;01mfinally\u001b[39;00m:\n\u001b[1;32m    124\u001b[0m     \u001b[38;5;28;01mdel\u001b[39;00m filtered_tb\n",
      "File \u001b[0;32m/mnt/a/OneDrive/Repos/PIOFE-Unrolling/.venv-linux/lib/python3.10/site-packages/tensorflow/python/eager/execute.py:53\u001b[0m, in \u001b[0;36mquick_execute\u001b[0;34m(op_name, num_outputs, inputs, attrs, ctx, name)\u001b[0m\n\u001b[1;32m     51\u001b[0m \u001b[38;5;28;01mtry\u001b[39;00m:\n\u001b[1;32m     52\u001b[0m   ctx\u001b[38;5;241m.\u001b[39mensure_initialized()\n\u001b[0;32m---> 53\u001b[0m   tensors \u001b[38;5;241m=\u001b[39m pywrap_tfe\u001b[38;5;241m.\u001b[39mTFE_Py_Execute(ctx\u001b[38;5;241m.\u001b[39m_handle, device_name, op_name,\n\u001b[1;32m     54\u001b[0m                                       inputs, attrs, num_outputs)\n\u001b[1;32m     55\u001b[0m \u001b[38;5;28;01mexcept\u001b[39;00m core\u001b[38;5;241m.\u001b[39m_NotOkStatusException \u001b[38;5;28;01mas\u001b[39;00m e:\n\u001b[1;32m     56\u001b[0m   \u001b[38;5;28;01mif\u001b[39;00m name \u001b[38;5;129;01mis\u001b[39;00m \u001b[38;5;129;01mnot\u001b[39;00m \u001b[38;5;28;01mNone\u001b[39;00m:\n",
      "\u001b[0;31mInternalError\u001b[0m: Graph execution error:\n\nDetected at node StatefulPartitionedCall defined at (most recent call last):\n  File \"/usr/lib/python3.10/runpy.py\", line 196, in _run_module_as_main\n\n  File \"/usr/lib/python3.10/runpy.py\", line 86, in _run_code\n\n  File \"/mnt/a/OneDrive/Repos/PIOFE-Unrolling/.venv-linux/lib/python3.10/site-packages/ipykernel_launcher.py\", line 18, in <module>\n\n  File \"/mnt/a/OneDrive/Repos/PIOFE-Unrolling/.venv-linux/lib/python3.10/site-packages/traitlets/config/application.py\", line 1075, in launch_instance\n\n  File \"/mnt/a/OneDrive/Repos/PIOFE-Unrolling/.venv-linux/lib/python3.10/site-packages/ipykernel/kernelapp.py\", line 739, in start\n\n  File \"/mnt/a/OneDrive/Repos/PIOFE-Unrolling/.venv-linux/lib/python3.10/site-packages/tornado/platform/asyncio.py\", line 205, in start\n\n  File \"/usr/lib/python3.10/asyncio/base_events.py\", line 603, in run_forever\n\n  File \"/usr/lib/python3.10/asyncio/base_events.py\", line 1909, in _run_once\n\n  File \"/usr/lib/python3.10/asyncio/events.py\", line 80, in _run\n\n  File \"/mnt/a/OneDrive/Repos/PIOFE-Unrolling/.venv-linux/lib/python3.10/site-packages/ipykernel/kernelbase.py\", line 545, in dispatch_queue\n\n  File \"/mnt/a/OneDrive/Repos/PIOFE-Unrolling/.venv-linux/lib/python3.10/site-packages/ipykernel/kernelbase.py\", line 534, in process_one\n\n  File \"/mnt/a/OneDrive/Repos/PIOFE-Unrolling/.venv-linux/lib/python3.10/site-packages/ipykernel/kernelbase.py\", line 437, in dispatch_shell\n\n  File \"/mnt/a/OneDrive/Repos/PIOFE-Unrolling/.venv-linux/lib/python3.10/site-packages/ipykernel/ipkernel.py\", line 362, in execute_request\n\n  File \"/mnt/a/OneDrive/Repos/PIOFE-Unrolling/.venv-linux/lib/python3.10/site-packages/ipykernel/kernelbase.py\", line 778, in execute_request\n\n  File \"/mnt/a/OneDrive/Repos/PIOFE-Unrolling/.venv-linux/lib/python3.10/site-packages/ipykernel/ipkernel.py\", line 449, in do_execute\n\n  File \"/mnt/a/OneDrive/Repos/PIOFE-Unrolling/.venv-linux/lib/python3.10/site-packages/ipykernel/zmqshell.py\", line 549, in run_cell\n\n  File \"/mnt/a/OneDrive/Repos/PIOFE-Unrolling/.venv-linux/lib/python3.10/site-packages/IPython/core/interactiveshell.py\", line 3075, in run_cell\n\n  File \"/mnt/a/OneDrive/Repos/PIOFE-Unrolling/.venv-linux/lib/python3.10/site-packages/IPython/core/interactiveshell.py\", line 3130, in _run_cell\n\n  File \"/mnt/a/OneDrive/Repos/PIOFE-Unrolling/.venv-linux/lib/python3.10/site-packages/IPython/core/async_helpers.py\", line 128, in _pseudo_sync_runner\n\n  File \"/mnt/a/OneDrive/Repos/PIOFE-Unrolling/.venv-linux/lib/python3.10/site-packages/IPython/core/interactiveshell.py\", line 3334, in run_cell_async\n\n  File \"/mnt/a/OneDrive/Repos/PIOFE-Unrolling/.venv-linux/lib/python3.10/site-packages/IPython/core/interactiveshell.py\", line 3517, in run_ast_nodes\n\n  File \"/mnt/a/OneDrive/Repos/PIOFE-Unrolling/.venv-linux/lib/python3.10/site-packages/IPython/core/interactiveshell.py\", line 3577, in run_code\n\n  File \"/tmp/ipykernel_7096/272017144.py\", line 1, in <module>\n\n  File \"/mnt/a/OneDrive/Repos/PIOFE-Unrolling/.venv-linux/lib/python3.10/site-packages/keras/src/utils/traceback_utils.py\", line 117, in error_handler\n\n  File \"/mnt/a/OneDrive/Repos/PIOFE-Unrolling/.venv-linux/lib/python3.10/site-packages/keras/src/backend/tensorflow/trainer.py\", line 318, in fit\n\n  File \"/mnt/a/OneDrive/Repos/PIOFE-Unrolling/.venv-linux/lib/python3.10/site-packages/keras/src/backend/tensorflow/trainer.py\", line 121, in one_step_on_iterator\n\nFailed to allocate 57147392 bytes for new constant\n\t [[{{node StatefulPartitionedCall}}]] [Op:__inference_one_step_on_iterator_3678]"
     ]
    }
   ],
   "source": [
    "hist = model.fit(x=train_X, y=train_y, epochs = 15, verbose = True, batch_size=1, validation_data=(test_X, test_y), callbacks=_callbacks)"
   ]
  },
  {
   "cell_type": "code",
   "execution_count": 22,
   "metadata": {},
   "outputs": [],
   "source": [
    "def visualiseFits(fits, validationData = True):\n",
    "    fig, axs = plt.subplots(2, 2, figsize = (40, 20))\n",
    "\n",
    "    axs[0][0].plot(fits.history['loss'], label = \"Conventional NN Train EPE\")\n",
    "    axs[0][0].legend()\n",
    "    axs[0][0].set_xlabel(\"Epochs\")\n",
    "    axs[0][0].set_ylabel(\"EPE (log Scaled)\")\n",
    "    axs[0][0].set_yscale('log')\n",
    "    axs[0][0].grid(True)\n",
    "\n",
    "    axs[1][0].plot(fits.history['loss'], label = \"Conventional NN Train EPE\")\n",
    "    axs[1][0].legend()\n",
    "    axs[1][0].set_xlabel(\"Epochs\")\n",
    "    axs[1][0].set_ylabel(\"EPE\")\n",
    "    axs[1][0].grid(True)\n",
    "\n",
    "    axs[0][1].plot(fits.history['mse'], label = \"Conventional NN Train MSE\")\n",
    "    axs[0][1].legend()\n",
    "    axs[0][1].set_xlabel(\"Epochs\")\n",
    "    axs[0][1].set_ylabel(\"MSE\")\n",
    "    axs[0][1].grid(True)\n",
    "\n",
    "    axs[1][1].plot(fits.history['mse'], label = \"Conventional NN Train MSE\")\n",
    "    axs[1][1].legend()\n",
    "    axs[1][1].set_xlabel(\"Epochs\")\n",
    "    axs[1][1].set_ylabel(\"MSE (log scaled)\")\n",
    "    axs[1][1].set_yscale('log')\n",
    "    axs[1][1].grid(True)\n",
    "    \n",
    "    if validationData:\n",
    "        axs[0][0].plot(fits.history['val_loss'], label = \"Conventional NN Train EPE validation\")\n",
    "        axs[1][0].plot(fits.history['val_loss'], label = \"Conventional NN Train EPE validation\")\n",
    "        axs[0][1].plot(fits.history['val_mse'], label = \"Conventional NN Train MSE validation\")\n",
    "        axs[1][1].plot(fits.history['val_mse'], label = \"Conventional NN Train MAE validation\")\n",
    "\n",
    "    plt.show()"
   ]
  },
  {
   "cell_type": "code",
   "execution_count": null,
   "metadata": {},
   "outputs": [],
   "source": [
    "visualiseFits(hist)"
   ]
  },
  {
   "cell_type": "code",
   "execution_count": null,
   "metadata": {},
   "outputs": [],
   "source": [
    "model.summary()"
   ]
  },
  {
   "cell_type": "code",
   "execution_count": null,
   "metadata": {},
   "outputs": [],
   "source": [
    "model.alphas"
   ]
  },
  {
   "cell_type": "code",
   "execution_count": null,
   "metadata": {},
   "outputs": [],
   "source": [
    "result = model(train_X[142].numpy().reshape(1, 2, 436, 1024, 1))\n",
    "imgs = train_X[142].numpy()\n",
    "result[0].shape"
   ]
  },
  {
   "cell_type": "code",
   "execution_count": null,
   "metadata": {},
   "outputs": [],
   "source": [
    "imgs.shape"
   ]
  },
  {
   "cell_type": "code",
   "execution_count": null,
   "metadata": {},
   "outputs": [],
   "source": [
    "result[0].numpy()"
   ]
  },
  {
   "cell_type": "code",
   "execution_count": null,
   "metadata": {},
   "outputs": [],
   "source": [
    "visualiser.visualiseOpticalFlow(result[0].numpy(), drawArrows=True, step=10, scale=1)\n",
    "visualiser.visualiseOpticalFlow(result[0].numpy(), drawArrows=False, step=10, scale=1)\n",
    "visualiser.visualiseOpticalFlow(train_y[142], drawArrows=True, step=10, scale = 1)\n",
    "visualiser.visualiseFlowError(groundTruth=train_y[142], predicted=result[0].numpy())\n",
    "plt.imshow(imgs[0], cmap = 'gray')\n",
    "plt.show()\n",
    "plt.imshow(imgs[1], cmap = 'gray')\n",
    "plt.show()"
   ]
  },
  {
   "cell_type": "code",
   "execution_count": null,
   "metadata": {},
   "outputs": [],
   "source": []
  },
  {
   "cell_type": "code",
   "execution_count": 21,
   "metadata": {},
   "outputs": [],
   "source": [
    "SAMPLE_INDEX = 69\n",
    "\n",
    "images = train_X[SAMPLE_INDEX].numpy()\n",
    "img1 = images[0]\n",
    "img2 = images[1]"
   ]
  },
  {
   "cell_type": "code",
   "execution_count": null,
   "metadata": {},
   "outputs": [],
   "source": [
    "fig, ax = plt.subplots(1, 2, figsize = (15, 30))\n",
    "ax[0].imshow(img1, cmap='gray')\n",
    "ax[1].imshow(img2, cmap='gray')\n",
    "plt.show()"
   ]
  },
  {
   "cell_type": "code",
   "execution_count": null,
   "metadata": {},
   "outputs": [],
   "source": [
    "result = model(train_X[SAMPLE_INDEX].numpy().reshape(1, 2, 436, 1024, 1))\n",
    "visualiser.visualiseOpticalFlow(result[0].numpy(), drawArrows=True, step=10, scale=1)\n",
    "visualiser.visualiseOpticalFlow(train_y[SAMPLE_INDEX], drawArrows=True, step=10, scale = 1)\n",
    "visualiser.visualiseFlowError(groundTruth=train_y[SAMPLE_INDEX], predicted=result[0].numpy())"
   ]
  },
  {
   "cell_type": "code",
   "execution_count": null,
   "metadata": {},
   "outputs": [],
   "source": []
  },
  {
   "cell_type": "code",
   "execution_count": null,
   "metadata": {},
   "outputs": [],
   "source": []
  },
  {
   "cell_type": "code",
   "execution_count": null,
   "metadata": {},
   "outputs": [],
   "source": []
  },
  {
   "cell_type": "code",
   "execution_count": null,
   "metadata": {},
   "outputs": [],
   "source": []
  },
  {
   "cell_type": "code",
   "execution_count": null,
   "metadata": {},
   "outputs": [],
   "source": []
  },
  {
   "cell_type": "code",
   "execution_count": null,
   "metadata": {},
   "outputs": [],
   "source": []
  },
  {
   "cell_type": "code",
   "execution_count": null,
   "metadata": {},
   "outputs": [],
   "source": [
    "import tensorflow_addons as tfa\n",
    "\n",
    "warped = tfa.image.dense_image_warp(img2.reshape(1, img2.shape[0], img2.shape[1], img2.shape[2]), -train_y[SAMPLE_INDEX])\n",
    "warped.shape"
   ]
  },
  {
   "cell_type": "code",
   "execution_count": null,
   "metadata": {},
   "outputs": [],
   "source": [
    "plt.imshow(warped.numpy()[0], cmap = 'gray')"
   ]
  },
  {
   "cell_type": "code",
   "execution_count": 40,
   "metadata": {},
   "outputs": [],
   "source": [
    "import cv2\n",
    "\n",
    "def warp_flow(flow, img1=None, img2=None, interpolation=cv2.INTER_LINEAR):\n",
    "    \"\"\"Use remap to warp flow, generating a new image. \n",
    "Args:\n",
    "    flow (np.ndarray): flow\n",
    "    img1 (np.ndarray, optional): previous frame\n",
    "    img2 (np.ndarray, optional): next frame\n",
    "Returns:\n",
    "    warped image\n",
    "If img1 is input, the output will be img2_warped, but there will be multiple pixels corresponding to a single pixel, resulting in sparse holes. \n",
    "If img2 is input, the output will be img1_warped, and there will be no sparse holes. The latter approach is preferred.\n",
    "    \"\"\"\n",
    "    h, w, _ = flow.shape\n",
    "    remap_flow = flow.transpose(2, 0, 1)\n",
    "    remap_xy = np.float32(np.mgrid[:h, :w][::-1])\n",
    "    if img1 is not None:\n",
    "        uv_new = (remap_xy + remap_flow).round().astype(np.int32)\n",
    "        mask = (uv_new[0] >= 0) & (uv_new[1] >= 0) & (uv_new[0] < w) & (uv_new[1] < h)\n",
    "        uv_new_ = uv_new[:, mask]\n",
    "        remap_xy[:, uv_new_[1], uv_new_[0]] = remap_xy[:, mask]\n",
    "        remap_x, remap_y = remap_xy\n",
    "        img2_warped = cv2.remap(img1, remap_x, remap_y, interpolation)\n",
    "        mask_remaped = np.zeros((h, w), np.bool8)\n",
    "        mask_remaped[uv_new_[1], uv_new_[0]] = True\n",
    "        img2_warped[~mask_remaped] = 0\n",
    "        return img2_warped\n",
    "    elif img2 is not None:\n",
    "        remap_x, remap_y = np.float32(remap_xy + remap_flow)\n",
    "        return cv2.remap(img2, remap_x, remap_y, interpolation)"
   ]
  },
  {
   "cell_type": "code",
   "execution_count": 41,
   "metadata": {},
   "outputs": [],
   "source": [
    "opencvwarp = warp_flow(flow=train_y[SAMPLE_INDEX], img2=img2)"
   ]
  },
  {
   "cell_type": "code",
   "execution_count": null,
   "metadata": {},
   "outputs": [],
   "source": [
    "plt.imshow(opencvwarp, cmap='gray')"
   ]
  },
  {
   "cell_type": "code",
   "execution_count": null,
   "metadata": {},
   "outputs": [],
   "source": [
    "fig, ax = plt.subplots(2, 2, figsize = (30, 30))\n",
    "ax[0, 0].imshow(img1, cmap='gray')\n",
    "ax[0, 1].imshow(img2, cmap='gray')\n",
    "ax[1, 0].imshow(warped.numpy()[0], cmap='gray')\n",
    "ax[1, 1].imshow(warped.numpy()[0] - opencvwarp.reshape(opencvwarp.shape[0], opencvwarp.shape[1], 1), cmap='gray')\n",
    "\n",
    "plt.tight_layout()\n",
    "plt.show()"
   ]
  },
  {
   "cell_type": "code",
   "execution_count": null,
   "metadata": {},
   "outputs": [],
   "source": []
  }
 ],
 "metadata": {
  "kernelspec": {
   "display_name": "PIOFE-Unrolling-venv",
   "language": "python",
   "name": "python3"
  },
  "language_info": {
   "codemirror_mode": {
    "name": "ipython",
    "version": 3
   },
   "file_extension": ".py",
   "mimetype": "text/x-python",
   "name": "python",
   "nbconvert_exporter": "python",
   "pygments_lexer": "ipython3",
   "version": "3.10.12"
  }
 },
 "nbformat": 4,
 "nbformat_minor": 2
}
